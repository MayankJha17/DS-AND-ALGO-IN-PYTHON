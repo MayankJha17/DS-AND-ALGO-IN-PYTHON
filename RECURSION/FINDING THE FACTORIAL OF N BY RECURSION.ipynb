{
 "cells": [
  {
   "cell_type": "markdown",
   "metadata": {},
   "source": [
    "## A) Identify The Base Case\n",
    "\n",
    "## B) Identify The Rescursive Case\n",
    "\n",
    "## C) Get closer and closer and return when needed . Usually you have 2 returns"
   ]
  },
  {
   "cell_type": "code",
   "execution_count": null,
   "metadata": {},
   "outputs": [],
   "source": [
    "\n",
    "def Factorial_By_Recursion(n): ## Time Complexity is also O(N) where N  is no. of inputs\n",
    "    if n==2: # Base Case\n",
    "        return 2\n",
    "    return n*Factorial_By_Recursion(n-1) #recursive case"
   ]
  },
  {
   "cell_type": "code",
   "execution_count": null,
   "metadata": {},
   "outputs": [],
   "source": [
    "\n",
    "def Factorial_By_Iterative(n):  ## Time Complexity Is O(N) where N  is no. of inputs\n",
    "    factorial=1  #intializing the factorial\n",
    "    \n",
    "    for i in range(2,n+1):  #test case starting with 2 because 1*1=1 so omit extra step and n+1 in last to count n\n",
    "        \n",
    "        factorial=factorial*i\n",
    "\n",
    "    return factorial    "
   ]
  },
  {
   "cell_type": "code",
   "execution_count": 4,
   "metadata": {},
   "outputs": [
    {
     "name": "stdout",
     "output_type": "stream",
     "text": [
      "5\n",
      "120\n",
      "120\n"
     ]
    }
   ],
   "source": [
    "if __name__ == \"__main__\":\n",
    "    \n",
    "    # taking input n\n",
    "     \n",
    "    n= int(input())\n",
    "    \n",
    "    print(Factorial_By_Iterative(n))\n",
    "    print(Factorial_By_Recursion(n))"
   ]
  }
 ],
 "metadata": {
  "kernelspec": {
   "display_name": "Python 3",
   "language": "python",
   "name": "python3"
  },
  "language_info": {
   "codemirror_mode": {
    "name": "ipython",
    "version": 3
   },
   "file_extension": ".py",
   "mimetype": "text/x-python",
   "name": "python",
   "nbconvert_exporter": "python",
   "pygments_lexer": "ipython3",
   "version": "3.7.6"
  }
 },
 "nbformat": 4,
 "nbformat_minor": 4
}
