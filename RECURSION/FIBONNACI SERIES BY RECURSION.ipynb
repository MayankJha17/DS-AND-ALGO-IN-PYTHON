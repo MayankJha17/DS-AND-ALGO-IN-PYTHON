{
 "cells": [
  {
   "cell_type": "markdown",
   "metadata": {},
   "source": [
    "## FIBONNACI SERIES - 0,1,1,2,3,5 , , , , "
   ]
  },
  {
   "cell_type": "markdown",
   "metadata": {},
   "source": [
    "### GIVEN A NUMBER N , FIND OUT THE NTH TERM OF SERIES"
   ]
  },
  {
   "cell_type": "code",
   "execution_count": 2,
   "metadata": {},
   "outputs": [],
   "source": [
    "def fib_recursive(n): # Time Complexity is O(2^N) recursive algo. Because It grow a into a Tree\n",
    "    \n",
    "    if n < 2: # Base Case\n",
    "        return n\n",
    "    \n",
    "    return fib_recursive(n-1)+fib_recursive(n-2) #recursive case"
   ]
  },
  {
   "cell_type": "code",
   "execution_count": 3,
   "metadata": {},
   "outputs": [],
   "source": [
    "    def fib_iterative(n): # Time Complexity is O(N)\n",
    "        \n",
    "        array=[0,1]\n",
    "        \n",
    "        for i in range(2,n+1):\n",
    "            \n",
    "            x=array[i-2]+array[i-1]\n",
    "            array.append(x)\n",
    "            \n",
    "        return array[n]    "
   ]
  },
  {
   "cell_type": "code",
   "execution_count": 5,
   "metadata": {},
   "outputs": [
    {
     "name": "stdout",
     "output_type": "stream",
     "text": [
      "8\n",
      "21\n",
      "21\n"
     ]
    }
   ],
   "source": [
    "if __name__ == \"__main__\":\n",
    "    \n",
    "    # taking input n\n",
    "     \n",
    "    n= int(input())\n",
    "    \n",
    "    print(fib_iterative(n))\n",
    "    print(fib_recursive(n))"
   ]
  },
  {
   "cell_type": "code",
   "execution_count": null,
   "metadata": {},
   "outputs": [],
   "source": []
  }
 ],
 "metadata": {
  "kernelspec": {
   "display_name": "Python 3",
   "language": "python",
   "name": "python3"
  },
  "language_info": {
   "codemirror_mode": {
    "name": "ipython",
    "version": 3
   },
   "file_extension": ".py",
   "mimetype": "text/x-python",
   "name": "python",
   "nbconvert_exporter": "python",
   "pygments_lexer": "ipython3",
   "version": "3.7.6"
  }
 },
 "nbformat": 4,
 "nbformat_minor": 4
}
