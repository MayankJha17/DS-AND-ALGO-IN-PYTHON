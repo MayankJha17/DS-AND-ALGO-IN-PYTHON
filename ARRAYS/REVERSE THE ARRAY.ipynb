{
 "cells": [
  {
   "cell_type": "markdown",
   "metadata": {},
   "source": [
    "# IMPLEMENTING THE ARRAY AS THE LIST"
   ]
  },
  {
   "cell_type": "markdown",
   "metadata": {},
   "source": [
    "## REVERSE THE ARRAY FUNC."
   ]
  },
  {
   "cell_type": "code",
   "execution_count": 2,
   "metadata": {},
   "outputs": [],
   "source": [
    "def Reverse_Array(arr,n): # O(N/2)  and removing constant O(N) where n is the no. of Inputs\n",
    "    \n",
    "    # calculating the midpoint of the array\n",
    "    \n",
    "    # we will traverse the array first half and interchanging values with second half\n",
    "    mid = int(n/2)\n",
    "\n",
    "    for i in range(mid):\n",
    "        \n",
    "        t = arr[i]\n",
    "        arr[i]=arr[n-i-1]\n",
    "        arr[n-i-1]=t\n",
    "        \n",
    "    print(arr)    \n",
    "   "
   ]
  },
  {
   "cell_type": "markdown",
   "metadata": {},
   "source": [
    "## MAIN FUNCTION"
   ]
  },
  {
   "cell_type": "code",
   "execution_count": 3,
   "metadata": {},
   "outputs": [
    {
     "name": "stdout",
     "output_type": "stream",
     "text": [
      "Enter the no. of elements :5\n",
      "1\n",
      "2\n",
      "3\n",
      "4\n",
      "5\n",
      "[5, 4, 3, 2, 1]\n"
     ]
    }
   ],
   "source": [
    "if __name__ == \"__main__\":\n",
    "    arr = []\n",
    "    n = int(input('Enter the no. of elements :'))\n",
    "    for i in range(n):\n",
    "        arr.append(int(input()))\n",
    "    Reverse_Array(arr,n)   "
   ]
  },
  {
   "cell_type": "code",
   "execution_count": null,
   "metadata": {},
   "outputs": [],
   "source": []
  }
 ],
 "metadata": {
  "kernelspec": {
   "display_name": "Python 3",
   "language": "python",
   "name": "python3"
  },
  "language_info": {
   "codemirror_mode": {
    "name": "ipython",
    "version": 3
   },
   "file_extension": ".py",
   "mimetype": "text/x-python",
   "name": "python",
   "nbconvert_exporter": "python",
   "pygments_lexer": "ipython3",
   "version": "3.7.6"
  }
 },
 "nbformat": 4,
 "nbformat_minor": 4
}
